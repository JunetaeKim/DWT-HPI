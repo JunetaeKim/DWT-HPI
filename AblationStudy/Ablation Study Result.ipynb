{
 "cells": [
  {
   "cell_type": "markdown",
   "metadata": {},
   "source": [
    "# Ablation Study Result"
   ]
  },
  {
   "cell_type": "markdown",
   "metadata": {},
   "source": [
    "Section 5.D in manuscript (Table 2-a, Table 3, Table 4, Fig. 3b, Fig. 3c)"
   ]
  },
  {
   "cell_type": "code",
   "execution_count": 1,
   "metadata": {},
   "outputs": [
    {
     "name": "stdout",
     "output_type": "stream",
     "text": [
      "WARNING:tensorflow:From C:\\Users\\Eugene Hwang\\AppData\\Local\\Temp\\ipykernel_4900\\3903333874.py:42: The name tf.keras.backend.set_session is deprecated. Please use tf.compat.v1.keras.backend.set_session instead.\n",
      "\n"
     ]
    }
   ],
   "source": [
    "import numpy as np\n",
    "import statsmodels.api as sm\n",
    "import matplotlib.pyplot as plt\n",
    "import pandas as pd\n",
    "import seaborn as sns \n",
    "import os\n",
    "import math\n",
    "import platform\n",
    "import shap\n",
    "from sklearn import metrics\n",
    "from sklearn.metrics import roc_curve, auc, roc_auc_score\n",
    "\n",
    "from matplotlib import font_manager, rc\n",
    "ttf = \"c:/Windows/Fonts/malgun.ttf\"\n",
    "font_name = font_manager.FontProperties(fname=ttf).get_name()\n",
    "rc('font', family=font_name)\n",
    "rc('axes', unicode_minus=False)\n",
    "\n",
    "import tensorflow as tf\n",
    "from tensorflow.keras.layers import Input, Conv1D, MaxPooling1D, Dense, Activation,Dropout\n",
    "from tensorflow.keras import backend as K,losses\n",
    "from tensorflow.keras import regularizers\n",
    "from tensorflow.keras.models import Model\n",
    "from tensorflow.keras.callbacks import ModelCheckpoint,EarlyStopping\n",
    "from tensorflow.keras.optimizers import Adam\n",
    "from tensorflow.keras import backend as K,losses\n",
    "\n",
    "from tensorflow_probability import distributions as tfd\n",
    "import tensorflow_probability as tfp\n",
    "\n",
    "os.environ[\"CUDA_DEVICE_ORDER\"]=\"PCI_BUS_ID\"\n",
    "os.environ[\"CUDA_VISIBLE_DEVICES\"]=\"0\"\n",
    "\n",
    "\n",
    "# TensorFlow wizardry\n",
    "config = tf.compat.v1.ConfigProto()\n",
    "# Don't pre-allocate memory; allocate as-needed\n",
    "config.gpu_options.allow_growth = True\n",
    "# Only allow a total of half the GPU memory to be allocated\n",
    "config.gpu_options.per_process_gpu_memory_fraction = 0.97\n",
    "# Create a session with the above options specified.\n",
    "tf.compat.v1.keras.backend.set_session(tf.compat.v1.Session(config=config))  "
   ]
  },
  {
   "cell_type": "markdown",
   "metadata": {},
   "source": [
    "### Load dataset"
   ]
  },
  {
   "cell_type": "code",
   "execution_count": 2,
   "metadata": {},
   "outputs": [],
   "source": [
    "ExternalInp = np.load('D:\\Dropbox\\HPI\\ProcessedData/ExtInp.npy', allow_pickle=True)\n",
    "ExternalOut = np.load('D:\\Dropbox\\HPI\\ProcessedData/ExtOut.npy', allow_pickle=True)"
   ]
  },
  {
   "cell_type": "code",
   "execution_count": 3,
   "metadata": {},
   "outputs": [],
   "source": [
    "ValInp = np.load('D:\\Dropbox\\HPI\\ProcessedData/IntValInp.npy', allow_pickle=True)\n",
    "ValOut = np.load('D:\\Dropbox\\HPI\\ProcessedData/IntValOut.npy', allow_pickle=True)"
   ]
  },
  {
   "cell_type": "markdown",
   "metadata": {},
   "source": [
    "## Ablation Model 1"
   ]
  },
  {
   "cell_type": "code",
   "execution_count": 26,
   "metadata": {},
   "outputs": [],
   "source": [
    "def FilterGen (FC):\n",
    "\n",
    "    # Sinc function\n",
    "    X = (2 * FC * (RanVar[None] - (N - 1) / 2))\n",
    "    X = tf.where(X == 0, K.epsilon(), X)\n",
    "    SinF = tf.sin(np.pi*X)/(np.pi*X)\n",
    "\n",
    "    # Black man window\n",
    "    BW = 0.42 - 0.5 * tf.math.cos(2 * np.pi * RanVar / (N - 1)) +  0.08 * tf.math.cos(4 * np.pi * RanVar / (N - 1))\n",
    "\n",
    "    SinFBW = SinF * BW\n",
    "    LP = SinFBW /  K.sum(SinFBW, axis=-1, keepdims=True)\n",
    "    HP = -LP\n",
    "    TmpZeros = tf.zeros((N - 1) // 2)\n",
    "    TmpOnes = tf.ones(1)\n",
    "    AddOne = tf.concat([TmpZeros,TmpOnes,TmpZeros], axis=0)\n",
    "    HP += AddOne\n",
    "\n",
    "    return LP, HP\n",
    "\n",
    "def DownSampling (ToDown):\n",
    "    if ToDown.shape[1] % 2 != 0: \n",
    "        ToDown = tf.concat([K.mean(ToDown[:, :2], axis=1, keepdims=True), ToDown[:, 2:]], axis=1)\n",
    "    return K.mean(tf.signal.frame(ToDown[:,:,0], 2,2, axis=1), axis=-1)   \n",
    "\n",
    "\n",
    "class DoGenVec(tf.keras.layers.Layer):\n",
    "    \n",
    "    def __init__(self, OutDimes):\n",
    "        super(DoGenVec, self).__init__()\n",
    "        self.Shapelet1Size = OutDimes[0]\n",
    "        self.WinSize = OutDimes[1]\n",
    "    \n",
    "    def get_config(self):\n",
    "\n",
    "        config = super().get_config().copy()\n",
    "        config.update({\n",
    "            'Shapelet1Size': self.Shapelet1Size,\n",
    "            'WinSize': self.WinSize})\n",
    "        return config\n",
    "    \n",
    "    def build(self, input_shape):\n",
    "        self.GenVec = self.add_weight(\"GenVec\", shape=[self.Shapelet1Size, self.WinSize], initializer=tf.keras.initializers.RandomNormal(mean=0.0, stddev=0.01))\n",
    "    \n",
    "    def call(self, input):\n",
    "        input = K.sum(input) * 0 + 1 # Weight matrix만 return 해주기 위해 이전 input tensor 값을 스칼라 1로 변경 후 weight matrix와 곱함, weight matrix만 return 할 경우 극심한 warning message...\n",
    "        return (input*self.GenVec)"
   ]
  },
  {
   "cell_type": "code",
   "execution_count": 31,
   "metadata": {},
   "outputs": [],
   "source": [
    "Shapelet1Size = 30\n",
    "PaddSideForSim = 12\n",
    "FrameSize = 50\n",
    "AttSize = 5\n",
    "\n",
    "b = 0.08 # Transition band, as a fraction of the sampling rate (in (0, 0.5)).\n",
    "N = int(np.ceil((4 / b)))\n",
    "if not N % 2:  # Make sure that N is odd.\n",
    "    N += 1  \n",
    "RanVar = tf.constant(np.arange(N), dtype=tf.float32)\n",
    "PaddSideForConv = (N-1)//2\n",
    "\n",
    "InputVec = Input(shape=(9000), name='Input')\n",
    "\n",
    "### A. Discrete wavelet transform layers ###\n",
    "\n",
    "# DWT 1st level\n",
    "FC1 = Conv1D(filters= 1,kernel_size= 20, strides=20//5, activation='softplus')(InputVec[:,:,None])\n",
    "FC1 = MaxPooling1D(pool_size=20,strides=20//5)(FC1)\n",
    "FC1 = Conv1D(filters= 1,kernel_size= 10, strides=10//2)(FC1)\n",
    "FC1 = MaxPooling1D(pool_size=10,strides=10//2)(FC1)[:,:,0]\n",
    "FC1 = Dense(10, activation='relu')(FC1)\n",
    "FC1 = Dense(1, activation='sigmoid')(FC1)\n",
    "FC1 = FC1*(0.5-K.epsilon())+K.epsilon()\n",
    "LP1, HP1 =  FilterGen (FC1)\n",
    "\n",
    "InputVecPad = tf.signal.frame(InputVec, N, 1)\n",
    "LP1_res = K.sum(InputVecPad * LP1[:,None,:], axis=-1, keepdims=True)\n",
    "LP1_Down = DownSampling(LP1_res)\n",
    "\n",
    "\n",
    "# DWT 2nd level\n",
    "FC2 = Conv1D(filters= 1,kernel_size= 20, strides=20//5, activation='softplus')(LP1_Down[:,:,None])\n",
    "FC2 = MaxPooling1D(pool_size=20,strides=20//5)(FC2)\n",
    "FC2 = Conv1D(filters= 1,kernel_size= 10, strides=10//2)(FC2)\n",
    "FC2 = MaxPooling1D(pool_size=10,strides=10//2)(FC2)[:,:,0]\n",
    "FC2 = Dense(10, activation='relu')(FC2)\n",
    "FC2 = Dense(1, activation='sigmoid')(FC2)\n",
    "FC2 = FC2*(0.5-K.epsilon())+K.epsilon()\n",
    "LP2, HP2 =  FilterGen (FC2)\n",
    "\n",
    "LP1_DownPad = tf.signal.frame(LP1_Down, N, 1)\n",
    "LP2_res = K.sum(LP1_DownPad * LP2[:,None,:], axis=-1, keepdims=True)\n",
    "LP2_Down = DownSampling(LP2_res)\n",
    "\n",
    "\n",
    "# DWT 3rd level\n",
    "FC3 = Conv1D(filters= 1,kernel_size= 10, strides=10//4, activation='softplus')(LP2_Down[:,:,None])\n",
    "FC3 = MaxPooling1D(pool_size=10,strides=10//4)(FC3)\n",
    "FC3 = Conv1D(filters= 1,kernel_size= 10, strides=10//2)(FC3)\n",
    "FC3 = MaxPooling1D(pool_size=10,strides=10//2)(FC3)[:,:,0]\n",
    "FC3 = Dense(10, activation='relu')(FC3)\n",
    "FC3 = Dense(1, activation='sigmoid')(FC3)\n",
    "FC3 = FC3*(0.5-K.epsilon())+K.epsilon()\n",
    "LP3, HP3 =  FilterGen (FC3)\n",
    "\n",
    "LP2_DownPad = tf.signal.frame(LP2_Down, N, 1)\n",
    "LP3_res = K.sum(LP2_DownPad * LP3[:,None,:], axis=-1, keepdims=True)\n",
    "LP3_Down = DownSampling(LP3_res)\n",
    "\n",
    "\n",
    "# DWT 4th level\n",
    "FC4 = Conv1D(filters= 1,kernel_size= 10, strides=10//2, activation='softplus')(LP3_Down[:,:,None])\n",
    "FC4 = MaxPooling1D(pool_size=10,strides=10//2)(FC4)\n",
    "FC4 = Conv1D(filters= 1,kernel_size= 5, strides=5//2)(FC4)\n",
    "FC4 = MaxPooling1D(pool_size=5,strides=5//2)(FC4)[:,:,0]\n",
    "FC4 = Dense(10, activation='relu')(FC4)\n",
    "FC4 = Dense(1, activation='sigmoid')(FC4)\n",
    "FC4 = FC4*(0.5-K.epsilon())+K.epsilon()\n",
    "LP4, HP4 =  FilterGen (FC4)\n",
    "\n",
    "LP3_DownPad = tf.signal.frame(LP3_Down, N, 1)\n",
    "LP4_res = K.sum(LP3_DownPad * LP4[:,None,:], axis=-1, keepdims=True)\n",
    "LP4_Down = DownSampling(LP4_res)\n",
    "\n",
    "\n",
    "# DWT 5th level\n",
    "FC5 = Conv1D(filters= 1,kernel_size= 10, strides=10//2, activation='softplus')(LP4_Down[:,:,None])\n",
    "FC5 = MaxPooling1D(pool_size=10,strides=10//2)(FC5)\n",
    "FC5 = Conv1D(filters= 1,kernel_size= 5, strides=5//2)(FC5)\n",
    "FC5 = MaxPooling1D(pool_size=5,strides=5//2)(FC5)[:,:,0]\n",
    "FC5 = Dense(10, activation='relu')(FC5)\n",
    "FC5 = Dense(1, activation='sigmoid')(FC5)\n",
    "FC5 = FC5*(0.5-K.epsilon())+K.epsilon()\n",
    "LP5, HP5 =  FilterGen (FC5)\n",
    "\n",
    "LP4_DownPad = tf.signal.frame(LP4_Down, N, 1)\n",
    "LP5_res = K.sum(LP4_DownPad * LP5[:,None,:], axis=-1, keepdims=True)\n",
    "LP5_Down = DownSampling(LP5_res)\n",
    "\n",
    "LP5_FeatDim = tf.signal.frame(LP5_Down, FrameSize, 1)\n",
    "\n",
    "\n",
    "### B. Local shape similarity layers ###\n",
    "GenVecLayer = DoGenVec([Shapelet1Size, FrameSize])\n",
    "GenVec = Activation('sigmoid')(GenVecLayer(InputVec)) \n",
    "\n",
    "LP5_X_sqare = K.sum(K.square(LP5_FeatDim), axis=2,keepdims=True)\n",
    "LP5_Y_sqare = K.sum(K.square(GenVec[:]), axis=1)[None,None]\n",
    "LP5_XY = tf.matmul(LP5_FeatDim, GenVec[:], transpose_b=True)\n",
    "LP5_Dist = (LP5_X_sqare + LP5_Y_sqare - 2*LP5_XY) \n",
    "LP5_Dist_sqrt = K.sqrt(LP5_Dist+K.epsilon())\n",
    "\n",
    "### D. Regresion layers ###\n",
    "Features_W = K.exp(-LP5_Dist_sqrt) \n",
    "Features = K.max(Features_W, axis=1) \n",
    "BinOut = Dense(1, activation='sigmoid',kernel_regularizer=regularizers.l1_l2(l1=1e-5, l2=0),name='BinOut')(Dropout(0.0)(Features))\n",
    "\n",
    "BinModel = Model(InputVec, BinOut)\n",
    "\n",
    "### Add cluster loss ###\n",
    "ClLoss = K.mean(K.min(LP5_Dist, axis=1) )\n",
    "BinModel.add_loss(ClLoss)\n",
    "BinModel.add_metric(ClLoss, name='ClLoss')\n",
    "\n",
    "lrate = 0.0005\n",
    "decay = 1e-6\n",
    "adam = tf.keras.optimizers.Adam(lr=lrate, beta_1=0.9, beta_2=0.999, epsilon=1e-08,decay=decay)\n",
    "BinModel.compile(loss='binary_crossentropy', optimizer='adam',  metrics={'BinOut':['binary_crossentropy','AUC']}, ) #'binary_crossentropy'\n",
    "BinModel.load_weights('Ablation1_413_0.37552_0.90841_0.24394_0.40831_0.89221_0.24933.hdf5')"
   ]
  },
  {
   "cell_type": "markdown",
   "metadata": {
    "tags": []
   },
   "source": [
    "### Table 2.a Prediction Performance"
   ]
  },
  {
   "cell_type": "code",
   "execution_count": 32,
   "metadata": {},
   "outputs": [
    {
     "name": "stdout",
     "output_type": "stream",
     "text": [
      "60/60 [==============================] - 7s 52ms/step\n"
     ]
    },
    {
     "data": {
      "text/plain": [
       "0.9086751040576775"
      ]
     },
     "execution_count": 32,
     "metadata": {},
     "output_type": "execute_result"
    }
   ],
   "source": [
    "# Internal Validation AUC\n",
    "from sklearn import metrics\n",
    "pred = Model(InputVec, BinOut).predict(ValInp[:, 9000:], batch_size=1000, verbose=1)\n",
    "fprIV, tprIV, thresholdsIV = metrics.roc_curve(ValOut[:], pred, pos_label=1)\n",
    "metrics.auc(fprIV, tprIV)"
   ]
  },
  {
   "cell_type": "code",
   "execution_count": 33,
   "metadata": {},
   "outputs": [
    {
     "name": "stdout",
     "output_type": "stream",
     "text": [
      "60/60 [==============================] - 4s 50ms/step\n"
     ]
    },
    {
     "data": {
      "text/plain": [
       "0.8922692240341823"
      ]
     },
     "execution_count": 33,
     "metadata": {},
     "output_type": "execute_result"
    }
   ],
   "source": [
    "# External Validation AUC\n",
    "from sklearn import metrics\n",
    "pred = Model(InputVec, BinOut).predict(ExternalInp[:, 9000:], batch_size=1000, verbose=1)\n",
    "fprEV, tprEV, thresholdsEV = metrics.roc_curve(ExternalOut[:], pred, pos_label=1)\n",
    "metrics.auc(fprEV, tprEV)"
   ]
  },
  {
   "cell_type": "markdown",
   "metadata": {},
   "source": [
    "### Table 3 Coefficient Values from the Logit Layer "
   ]
  },
  {
   "cell_type": "markdown",
   "metadata": {},
   "source": [
    "Coefficients by gradient descent method"
   ]
  },
  {
   "cell_type": "code",
   "execution_count": 34,
   "metadata": {},
   "outputs": [],
   "source": [
    "# extract logistic regression layer from model\n",
    "Coef = BinModel.get_layer('BinOut').get_weights()[0]"
   ]
  },
  {
   "cell_type": "markdown",
   "metadata": {},
   "source": [
    "Coefficients by Newton-Raphson method"
   ]
  },
  {
   "cell_type": "code",
   "execution_count": 35,
   "metadata": {},
   "outputs": [
    {
     "name": "stdout",
     "output_type": "stream",
     "text": [
      "60/60 [==============================] - 4s 58ms/step\n"
     ]
    }
   ],
   "source": [
    "# extract similarity values (x) for logistic regression\n",
    "tmpMo = Model(InputVec,Features)\n",
    "FeaturesPred = tmpMo.predict(ValInp[:, 9000:], batch_size=1000, verbose=1) "
   ]
  },
  {
   "cell_type": "code",
   "execution_count": 36,
   "metadata": {},
   "outputs": [
    {
     "name": "stdout",
     "output_type": "stream",
     "text": [
      "[0, 1, 2, 3, 5, 6, 7, 8, 9, 10, 11, 12, 13, 14, 15, 16, 17, 18, 19, 20, 21, 22, 23, 24, 25, 26, 27, 28]\n",
      "[4, 29]\n",
      "Num of Features to Keep :  2\n"
     ]
    },
    {
     "data": {
      "text/plain": [
       "<AxesSubplot:>"
      ]
     },
     "execution_count": 36,
     "metadata": {},
     "output_type": "execute_result"
    },
    {
     "data": {
      "image/png": "[encoded data removed]",
      "text/plain": [
       "<Figure size 432x288 with 2 Axes>"
      ]
     },
     "metadata": {
      "needs_background": "light"
     },
     "output_type": "display_data"
    }
   ],
   "source": [
    "### Filter by correlation ###\n",
    "\n",
    "# Create correlation matrix\n",
    "FeaturesPred = pd.DataFrame(FeaturesPred)\n",
    "FeaturesPred['Hypo'] = ValOut\n",
    "FeaturesCorr = FeaturesPred.corr()\n",
    "corr_matrix = FeaturesCorr.abs()\n",
    "\n",
    "# Select upper triangle of correlation matrix\n",
    "upper = corr_matrix.where(np.tril(np.ones(corr_matrix.shape), k=-1).astype(np.bool))\n",
    "\n",
    "# Find features with correlation greater than 0.8\n",
    "to_drop = [column for column in upper.columns if any(upper[column] > 0.8)]\n",
    "to_keep = [x for x in list(range(Shapelet1Size)) if x not in to_drop]\n",
    "\n",
    "print(to_drop) \n",
    "print(to_keep) \n",
    "print('Num of Features to Keep : ', len(to_keep))\n",
    "# Drop highly correlated features \n",
    "FeaturesPred_bycorr = corr_matrix[to_keep]\n",
    "\n",
    "sns.heatmap(data = FeaturesCorr.loc[to_keep,to_keep], annot=True, annot_kws={\"fontsize\":14}, cmap='coolwarm', vmin=-1, vmax=1)"
   ]
  },
  {
   "cell_type": "code",
   "execution_count": 37,
   "metadata": {},
   "outputs": [
    {
     "name": "stdout",
     "output_type": "stream",
     "text": [
      "Optimization terminated successfully.\n",
      "         Current function value: 0.387850\n",
      "         Iterations 6\n"
     ]
    }
   ],
   "source": [
    "### Logistic regression: X = similarity vlaues, y = hypotension label ###\n",
    "\n",
    "# DataSet Preparation\n",
    "X = np.array(FeaturesPred.copy().iloc[:,list(FeaturesPred_bycorr.columns)])\n",
    "X = sm.add_constant(X)\n",
    "y = ValOut.copy()\n",
    "\n",
    "# Fit Logit Model\n",
    "LogitModel = sm.Logit(y, X)\n",
    "result = LogitModel.fit()"
   ]
  },
  {
   "cell_type": "code",
   "execution_count": 38,
   "metadata": {},
   "outputs": [
    {
     "data": {
      "text/html": [
       "<div>\n",
       "<style scoped>\n",
       "    .dataframe tbody tr th:only-of-type {\n",
       "        vertical-align: middle;\n",
       "    }\n",
       "\n",
       "    .dataframe tbody tr th {\n",
       "        vertical-align: top;\n",
       "    }\n",
       "\n",
       "    .dataframe thead th {\n",
       "        text-align: right;\n",
       "    }\n",
       "</style>\n",
       "<table border=\"1\" class=\"dataframe\">\n",
       "  <thead>\n",
       "    <tr style=\"text-align: right;\">\n",
       "      <th></th>\n",
       "      <th>Feature_ID</th>\n",
       "      <th>GD-method</th>\n",
       "      <th>NR-method</th>\n",
       "      <th>pVal</th>\n",
       "    </tr>\n",
       "  </thead>\n",
       "  <tbody>\n",
       "    <tr>\n",
       "      <th>0</th>\n",
       "      <td>4</td>\n",
       "      <td>10.6953</td>\n",
       "      <td>10.0754</td>\n",
       "      <td>0.0</td>\n",
       "    </tr>\n",
       "    <tr>\n",
       "      <th>1</th>\n",
       "      <td>29</td>\n",
       "      <td>1.3649</td>\n",
       "      <td>-4.0752</td>\n",
       "      <td>0.0</td>\n",
       "    </tr>\n",
       "  </tbody>\n",
       "</table>\n",
       "</div>"
      ],
      "text/plain": [
       "  Feature_ID  GD-method NR-method pVal\n",
       "0          4    10.6953   10.0754  0.0\n",
       "1         29     1.3649   -4.0752  0.0"
      ]
     },
     "execution_count": 38,
     "metadata": {},
     "output_type": "execute_result"
    }
   ],
   "source": [
    "### Filter by p-value ###\n",
    "\n",
    "StatResult = pd.DataFrame(np.array([np.array(FeaturesPred_bycorr.columns), \n",
    "                                    np.round(result.params[1:], 4), \n",
    "                                    np.round(result.pvalues, 4)[1:]]).transpose(), \n",
    "                          columns=['Feature_ID', 'NR-method', 'pVal'])\n",
    "StatResult.insert(1, 'GD-method', np.round(Coef[to_keep],4))\n",
    "pValSig = StatResult.sort_values('pVal').query('pVal <= 0.1')\n",
    "pValShapIDX = list(pValSig.Feature_ID.astype('int32').values)\n",
    "pValSig"
   ]
  },
  {
   "cell_type": "markdown",
   "metadata": {},
   "source": [
    "### Table 4 Confusion Matrix of Maximum Similarity with the Representative Shapes"
   ]
  },
  {
   "cell_type": "code",
   "execution_count": 39,
   "metadata": {},
   "outputs": [
    {
     "data": {
      "text/plain": [
       "(30, 50)"
      ]
     },
     "execution_count": 39,
     "metadata": {},
     "output_type": "execute_result"
    }
   ],
   "source": [
    "# extract GenVec layer to obtain representative ABP trends\n",
    "tmpMo = Model(InputVec, GenVec)\n",
    "GenVecp = tmpMo.predict(ValInp[0:1, 9000:])\n",
    "GenVecp.shape"
   ]
  },
  {
   "cell_type": "code",
   "execution_count": 40,
   "metadata": {},
   "outputs": [
    {
     "name": "stdout",
     "output_type": "stream",
     "text": [
      "60/60 [==============================] - 5s 66ms/step\n"
     ]
    },
    {
     "data": {
      "text/plain": [
       "TensorShape([60000, 183, 30])"
      ]
     },
     "execution_count": 40,
     "metadata": {},
     "output_type": "execute_result"
    }
   ],
   "source": [
    "# extract LP5_Dist_sqrt to compute similarity with representative ABP trends\n",
    "tmpMo = Model(InputVec,LP5_Dist_sqrt)\n",
    "LP5Dist = tmpMo.predict(ValInp[:, 9000:], batch_size=1000, verbose=1)  # computing distance\n",
    "LP5Sim = K.exp(-LP5Dist)  # computing similarity\n",
    "LP5Sim.shape"
   ]
  },
  {
   "cell_type": "code",
   "execution_count": 41,
   "metadata": {},
   "outputs": [
    {
     "name": "stdout",
     "output_type": "stream",
     "text": [
      "Number of max similiarity with each shape for hypotension samples:  [19620  7569]\n",
      "Number of max similiarity with each shape for non-hypotension samples:  [ 2506 30305]\n"
     ]
    },
    {
     "data": {
      "text/html": [
       "<div>\n",
       "<style scoped>\n",
       "    .dataframe tbody tr th:only-of-type {\n",
       "        vertical-align: middle;\n",
       "    }\n",
       "\n",
       "    .dataframe tbody tr th {\n",
       "        vertical-align: top;\n",
       "    }\n",
       "\n",
       "    .dataframe thead th {\n",
       "        text-align: right;\n",
       "    }\n",
       "</style>\n",
       "<table border=\"1\" class=\"dataframe\">\n",
       "  <thead>\n",
       "    <tr style=\"text-align: right;\">\n",
       "      <th></th>\n",
       "      <th>4</th>\n",
       "      <th>29</th>\n",
       "    </tr>\n",
       "  </thead>\n",
       "  <tbody>\n",
       "    <tr>\n",
       "      <th>Hypo</th>\n",
       "      <td>19620</td>\n",
       "      <td>7569</td>\n",
       "    </tr>\n",
       "    <tr>\n",
       "      <th>NonHypo</th>\n",
       "      <td>2506</td>\n",
       "      <td>30305</td>\n",
       "    </tr>\n",
       "  </tbody>\n",
       "</table>\n",
       "</div>"
      ],
      "text/plain": [
       "            4      29\n",
       "Hypo     19620   7569\n",
       "NonHypo   2506  30305"
      ]
     },
     "execution_count": 41,
     "metadata": {},
     "output_type": "execute_result"
    }
   ],
   "source": [
    "### Count the number of samples with maximum similarity to each shape ###\n",
    "\n",
    "FrequentShap = []\n",
    "FrequentShapH = [] # Actual hypotension\n",
    "FrequentShapNH = [] # Actual non-hypotension\n",
    "\n",
    "for i in range(LP5Sim.shape[0]):\n",
    "    pValShap = np.array([LP5Sim[i][:,shapIDX] for shapIDX in pValShapIDX])\n",
    "    FrequentShap.append(np.bincount(np.argmax(pValShap, axis=0), minlength=len(pValShapIDX)).argmax())\n",
    "    if ValOut[i] == 1:\n",
    "        FrequentShapH.append(np.bincount(np.argmax(pValShap, axis=0), minlength=len(pValShapIDX)).argmax())\n",
    "    else:\n",
    "        FrequentShapNH.append(np.bincount(np.argmax(pValShap, axis=0), minlength=len(pValShapIDX)).argmax())\n",
    "             \n",
    "FrequentShapH = np.bincount(np.array(FrequentShapH), minlength=len(pValShapIDX))\n",
    "FreqGenVecH = GenVecp[pValShapIDX]\n",
    "FrequentShapNH = np.bincount(np.array(FrequentShapNH), minlength=len(pValShapIDX))\n",
    "FreqGenVecNH = GenVecp[pValShapIDX]\n",
    "\n",
    "print(\"Number of max similiarity with each shape for hypotension samples: \", FrequentShapH)\n",
    "print(\"Number of max similiarity with each shape for non-hypotension samples: \", FrequentShapNH)\n",
    "\n",
    "FreqCounts = pd.DataFrame([FrequentShapH, FrequentShapNH], index=['Hypo', 'NonHypo'], columns=pValShapIDX)\n",
    "FreqCounts"
   ]
  },
  {
   "cell_type": "code",
   "execution_count": 42,
   "metadata": {},
   "outputs": [
    {
     "name": "stdout",
     "output_type": "stream",
     "text": [
      "60/60 [==============================] - 4s 53ms/step\n",
      "\n",
      "\n",
      "ShapeID :  4\n",
      "                        Predicted as non-hypotension  Predicted as hypotension\n",
      "Actual non-hypotension                             4                      2502\n",
      "Actual hypotension                                10                     19610\n",
      "\n",
      "\n",
      "ShapeID :  29\n",
      "                        Predicted as non-hypotension  Predicted as hypotension\n",
      "Actual non-hypotension                         28355                      1950\n",
      "Actual hypotension                              4320                      3249\n"
     ]
    }
   ],
   "source": [
    "### Compute confusion matrix for each shape ###\n",
    "\n",
    "# get predicted values\n",
    "ValPred = Model(InputVec, BinOut).predict(ValInp[:, 9000:], batch_size=1000, verbose=1)\n",
    "ValPred = np.where(np.reshape(ValPred, -1)>0.5, 1, 0)\n",
    "SimShap = np.vstack([np.array(FrequentShap), np.array(ValOut), np.array(ValPred)]) # axis 1 = True , 2 = Pred\n",
    "\n",
    "# confusion matrix\n",
    "from sklearn.metrics import confusion_matrix\n",
    "for i in range(len(pValShapIDX)):\n",
    "    SimShap_i = SimShap.transpose()[np.where(SimShap[0]==i)[0]][:,1:]\n",
    "    cf = confusion_matrix(SimShap_i[:,0], SimShap_i[:,1])\n",
    "    cf = pd.DataFrame(cf, columns = ['Predicted as non-hypotension', 'Predicted as hypotension'], index = ['Actual non-hypotension', 'Actual hypotension'])\n",
    "    print('\\n')\n",
    "    print('ShapeID : ', pValShapIDX[i])\n",
    "    print(cf)"
   ]
  },
  {
   "cell_type": "markdown",
   "metadata": {},
   "source": [
    "### Fig. 3b Representative shapes of local ABP trends "
   ]
  },
  {
   "cell_type": "code",
   "execution_count": 43,
   "metadata": {},
   "outputs": [
    {
     "data": {
      "image/png": "[encoded data removed]",
      "text/plain": [
       "<Figure size 720x216 with 1 Axes>"
      ]
     },
     "metadata": {
      "needs_background": "light"
     },
     "output_type": "display_data"
    }
   ],
   "source": [
    "plt.figure(figsize = (10,3))\n",
    "plt.xlim(0,FrameSize)\n",
    "plt.plot(GenVecp[pValShapIDX][1], label = 'Negative coefficient: Non-hypotension shape', lw=3)\n",
    "plt.xticks(fontsize='x-large')\n",
    "plt.yticks(fontsize='x-large')\n",
    "plt.xlabel('Local Interval', fontsize='x-large')\n",
    "plt.ylabel('Transformed ABP Value', fontsize='x-large')\n",
    "plt.legend(fontsize='x-large')\n",
    "plt.show()"
   ]
  },
  {
   "cell_type": "code",
   "execution_count": 44,
   "metadata": {},
   "outputs": [
    {
     "data": {
      "image/png": "[encoded data removed]",
      "text/plain": [
       "<Figure size 720x216 with 1 Axes>"
      ]
     },
     "metadata": {
      "needs_background": "light"
     },
     "output_type": "display_data"
    }
   ],
   "source": [
    "plt.figure(figsize = (10,3))\n",
    "plt.xlim(0,FrameSize)\n",
    "plt.plot(GenVecp[pValShapIDX][0], label = 'Positive coefficient: Hypotension shape', color='red', lw=3)\n",
    "plt.xticks(fontsize='x-large')\n",
    "plt.yticks(fontsize='x-large')\n",
    "plt.xlabel('Local Interval', fontsize='x-large')\n",
    "plt.ylabel('Transformed ABP Value', fontsize='x-large')\n",
    "plt.legend(fontsize='x-large')\n",
    "plt.show()"
   ]
  },
  {
   "cell_type": "markdown",
   "metadata": {},
   "source": [
    "## Ablation Model 2"
   ]
  },
  {
   "cell_type": "markdown",
   "metadata": {},
   "source": [
    "### Load model with weights"
   ]
  },
  {
   "cell_type": "code",
   "execution_count": 4,
   "metadata": {},
   "outputs": [],
   "source": [
    "class DoGenVec(tf.keras.layers.Layer):\n",
    "    \n",
    "    def __init__(self, OutDimes):\n",
    "        super(DoGenVec, self).__init__()\n",
    "        self.Shapelet1Size = OutDimes[0]\n",
    "        self.WinSize = OutDimes[1]\n",
    "    \n",
    "    def get_config(self):\n",
    "\n",
    "        config = super().get_config().copy()\n",
    "        config.update({\n",
    "            'Shapelet1Size': self.Shapelet1Size,\n",
    "            'WinSize': self.WinSize})\n",
    "        return config\n",
    "    \n",
    "    def build(self, input_shape):\n",
    "        self.GenVec = self.add_weight(\"GenVec\", shape=[self.Shapelet1Size, self.WinSize], initializer=tf.keras.initializers.RandomNormal(mean=0.0, stddev=0.01))\n",
    "    \n",
    "    def call(self, input):\n",
    "        input = K.sum(input) * 0 + 1 # Weight matrix만 return 해주기 위해 이전 input tensor 값을 스칼라 1로 변경 후 weight matrix와 곱함, weight matrix만 return 할 경우 극심한 warning message...\n",
    "        return (input*self.GenVec)"
   ]
  },
  {
   "cell_type": "code",
   "execution_count": 30,
   "metadata": {},
   "outputs": [],
   "source": [
    "Shapelet1Size = 30\n",
    "PaddSideForSim = 12\n",
    "FrameSize = 50\n",
    "AttSize = 5\n",
    "\n",
    "InputVec = Input(shape=(9000), name='Input')\n",
    "\n",
    "### Replaced : A. Discrete wavelet transform layers ###\n",
    "FC1 = Conv1D(filters= 1,kernel_size= 20, strides=1, activation='softplus',padding=\"valid\")(InputVec[:,:,None])\n",
    "FC1 = MaxPooling1D(pool_size=2,strides=2)(FC1)\n",
    "FC2 = Conv1D(filters= 1,kernel_size= 20, strides=1, activation='softplus',padding=\"valid\")(FC1)\n",
    "FC2 = MaxPooling1D(pool_size=2,strides=2)(FC2)\n",
    "FC3 = Conv1D(filters= 1,kernel_size= 20, strides=1, activation='softplus',padding=\"valid\")(FC2)\n",
    "FC3 = MaxPooling1D(pool_size=2,strides=2)(FC3)\n",
    "FC4 = Conv1D(filters= 1,kernel_size= 20, strides=1, activation='softplus',padding=\"valid\")(FC3)\n",
    "FC4 = MaxPooling1D(pool_size=2,strides=2)(FC4)\n",
    "LP5_Down = Dense(232, activation='sigmoid')(FC4[:,:,0])\n",
    "\n",
    "LP5_FeatDim = tf.signal.frame(LP5_Down, FrameSize, 1)\n",
    "\n",
    "\n",
    "### B. Local shape similarity layers ###\n",
    "GenVecLayer = DoGenVec([Shapelet1Size, FrameSize])\n",
    "GenVec = Activation('sigmoid')(GenVecLayer(InputVec)) \n",
    "\n",
    "LP5_X_sqare = K.sum(K.square(LP5_FeatDim), axis=2,keepdims=True)\n",
    "LP5_Y_sqare = K.sum(K.square(GenVec[:]), axis=1)[None,None]\n",
    "LP5_XY = tf.matmul(LP5_FeatDim, GenVec[:], transpose_b=True)\n",
    "LP5_Dist = (LP5_X_sqare + LP5_Y_sqare - 2*LP5_XY) \n",
    "LP5_Dist_sqrt = K.sqrt(LP5_Dist+K.epsilon())\n",
    "\n",
    "\n",
    "### D. Regresion layers ###\n",
    "Features_W = K.exp(-LP5_Dist_sqrt) \n",
    "Features = K.max(Features_W, axis=1) \n",
    "BinOut = Dense(1, activation='sigmoid',kernel_regularizer=regularizers.l1_l2(l1=1e-5, l2=0),name='BinOut')(Dropout(0.0)(Features))\n",
    "\n",
    "BinModel = Model(InputVec, BinOut)\n",
    "\n",
    "\n",
    "### Add cluster loss ###\n",
    "ClLoss = K.mean(K.min(LP5_Dist, axis=1))\n",
    "BinModel.add_loss(ClLoss)\n",
    "BinModel.add_metric(ClLoss, name='ClLoss')\n",
    "\n",
    "lrate = 0.0005\n",
    "decay = 1e-6\n",
    "adam = tf.keras.optimizers.Adam(lr=lrate, beta_1=0.9, beta_2=0.999, epsilon=1e-08,decay=decay)\n",
    "BinModel.compile(loss='binary_crossentropy', optimizer='adam',  metrics={'BinOut':['binary_crossentropy','AUC']}, ) #'binary_crossentropy' \n",
    "BinModel.load_weights('Ablation2_61_0.34989_0.92420_0.01652_0.38448_0.90570_0.01731.hdf5')"
   ]
  },
  {
   "cell_type": "markdown",
   "metadata": {
    "tags": []
   },
   "source": [
    "### Table 2.a Prediction Performance"
   ]
  },
  {
   "cell_type": "code",
   "execution_count": 7,
   "metadata": {},
   "outputs": [
    {
     "name": "stdout",
     "output_type": "stream",
     "text": [
      "60/60 [==============================] - 4s 16ms/step\n"
     ]
    },
    {
     "data": {
      "text/plain": [
       "0.9165300345792955"
      ]
     },
     "execution_count": 7,
     "metadata": {},
     "output_type": "execute_result"
    }
   ],
   "source": [
    "# Internal Validation AUC\n",
    "from sklearn import metrics\n",
    "pred = Model(InputVec, BinOut).predict(ValInp[:, 9000:], batch_size=1000, verbose=1)\n",
    "fprIV, tprIV, thresholdsIV = metrics.roc_curve(ValOut[:], pred, pos_label=1)\n",
    "metrics.auc(fprIV, tprIV)"
   ]
  },
  {
   "cell_type": "code",
   "execution_count": 8,
   "metadata": {},
   "outputs": [
    {
     "name": "stdout",
     "output_type": "stream",
     "text": [
      "60/60 [==============================] - 1s 13ms/step\n"
     ]
    },
    {
     "data": {
      "text/plain": [
       "0.9057057346095759"
      ]
     },
     "execution_count": 8,
     "metadata": {},
     "output_type": "execute_result"
    }
   ],
   "source": [
    "# External Validation AUC\n",
    "from sklearn import metrics\n",
    "pred = Model(InputVec, BinOut).predict(ExternalInp[:, 9000:], batch_size=1000, verbose=1)\n",
    "fprEV, tprEV, thresholdsEV = metrics.roc_curve(ExternalOut[:], pred, pos_label=1)\n",
    "metrics.auc(fprEV, tprEV)"
   ]
  },
  {
   "cell_type": "markdown",
   "metadata": {},
   "source": [
    "#### Table 3 Coefficient Values from the Logit Layer"
   ]
  },
  {
   "cell_type": "markdown",
   "metadata": {},
   "source": [
    "Coefficients by gradient descent method"
   ]
  },
  {
   "cell_type": "code",
   "execution_count": 9,
   "metadata": {},
   "outputs": [],
   "source": [
    "# extract logistic regression layer from model\n",
    "Coef = BinModel.get_layer('BinOut').get_weights()[0]"
   ]
  },
  {
   "cell_type": "markdown",
   "metadata": {},
   "source": [
    "Coefficients by Newton-Raphson method"
   ]
  },
  {
   "cell_type": "code",
   "execution_count": 10,
   "metadata": {},
   "outputs": [
    {
     "name": "stdout",
     "output_type": "stream",
     "text": [
      "60/60 [==============================] - 1s 16ms/step\n"
     ]
    }
   ],
   "source": [
    "# extract similarity values (x) for logistic regression\n",
    "tmpMo = Model(InputVec,Features)\n",
    "FeaturesPred = tmpMo.predict(ValInp[:, 9000:], batch_size=1000, verbose=1) "
   ]
  },
  {
   "cell_type": "code",
   "execution_count": 11,
   "metadata": {},
   "outputs": [
    {
     "name": "stdout",
     "output_type": "stream",
     "text": [
      "[0, 1, 2, 3, 4, 5, 6, 7, 8, 9, 10, 11, 12, 13, 14, 15, 16, 17, 18, 19, 20, 21, 22, 23, 24, 25, 26, 27]\n",
      "[28, 29]\n",
      "Num of Features to Keep :  2\n"
     ]
    },
    {
     "data": {
      "text/plain": [
       "<AxesSubplot:>"
      ]
     },
     "execution_count": 11,
     "metadata": {},
     "output_type": "execute_result"
    },
    {
     "data": {
      "image/png": "[encoded data removed]",
      "text/plain": [
       "<Figure size 432x288 with 2 Axes>"
      ]
     },
     "metadata": {
      "needs_background": "light"
     },
     "output_type": "display_data"
    }
   ],
   "source": [
    "### Filter by correlation ###\n",
    "\n",
    "# Create correlation matrix\n",
    "FeaturesPred = pd.DataFrame(FeaturesPred)\n",
    "FeaturesPred['Hypo'] = ValOut\n",
    "FeaturesCorr = FeaturesPred.corr()\n",
    "corr_matrix = FeaturesCorr.abs()\n",
    "\n",
    "# Select upper triangle of correlation matrix\n",
    "upper = corr_matrix.where(np.tril(np.ones(corr_matrix.shape), k=-1).astype(np.bool))\n",
    "\n",
    "# Find features with correlation greater than 0.8\n",
    "to_drop = [column for column in upper.columns if any(upper[column] > 0.8)]\n",
    "to_keep = [x for x in list(range(Shapelet1Size)) if x not in to_drop]\n",
    "\n",
    "print(to_drop) \n",
    "print(to_keep) \n",
    "print('Num of Features to Keep : ', len(to_keep))\n",
    "# Drop highly correlated features \n",
    "FeaturesPred_bycorr = corr_matrix[to_keep]\n",
    "\n",
    "sns.heatmap(data = FeaturesCorr.loc[to_keep,to_keep], annot=True, annot_kws={\"fontsize\":14}, cmap='coolwarm', vmin=-1, vmax=1)"
   ]
  },
  {
   "cell_type": "code",
   "execution_count": 12,
   "metadata": {},
   "outputs": [
    {
     "name": "stdout",
     "output_type": "stream",
     "text": [
      "Optimization terminated successfully.\n",
      "         Current function value: 0.360302\n",
      "         Iterations 7\n"
     ]
    }
   ],
   "source": [
    "### Logistic regression: X = similarity vlaues, y = hypotension label ###\n",
    "\n",
    "# DataSet Preparation\n",
    "X = np.array(FeaturesPred.copy().iloc[:,list(FeaturesPred_bycorr.columns)])\n",
    "X = sm.add_constant(X)\n",
    "y = ValOut.copy()\n",
    "\n",
    "# Fit Logit Model\n",
    "LogitModel = sm.Logit(y, X)\n",
    "result = LogitModel.fit()"
   ]
  },
  {
   "cell_type": "code",
   "execution_count": 13,
   "metadata": {},
   "outputs": [
    {
     "data": {
      "text/html": [
       "<div>\n",
       "<style scoped>\n",
       "    .dataframe tbody tr th:only-of-type {\n",
       "        vertical-align: middle;\n",
       "    }\n",
       "\n",
       "    .dataframe tbody tr th {\n",
       "        vertical-align: top;\n",
       "    }\n",
       "\n",
       "    .dataframe thead th {\n",
       "        text-align: right;\n",
       "    }\n",
       "</style>\n",
       "<table border=\"1\" class=\"dataframe\">\n",
       "  <thead>\n",
       "    <tr style=\"text-align: right;\">\n",
       "      <th></th>\n",
       "      <th>Feature_ID</th>\n",
       "      <th>GD-method</th>\n",
       "      <th>NR-method</th>\n",
       "      <th>pVal</th>\n",
       "    </tr>\n",
       "  </thead>\n",
       "  <tbody>\n",
       "    <tr>\n",
       "      <th>0</th>\n",
       "      <td>28</td>\n",
       "      <td>-1.5114</td>\n",
       "      <td>-24.1641</td>\n",
       "      <td>0.0</td>\n",
       "    </tr>\n",
       "    <tr>\n",
       "      <th>1</th>\n",
       "      <td>29</td>\n",
       "      <td>1.3149</td>\n",
       "      <td>15.1472</td>\n",
       "      <td>0.0</td>\n",
       "    </tr>\n",
       "  </tbody>\n",
       "</table>\n",
       "</div>"
      ],
      "text/plain": [
       "  Feature_ID  GD-method NR-method pVal\n",
       "0         28    -1.5114  -24.1641  0.0\n",
       "1         29     1.3149   15.1472  0.0"
      ]
     },
     "execution_count": 13,
     "metadata": {},
     "output_type": "execute_result"
    }
   ],
   "source": [
    "### Filter by p-value ###\n",
    "\n",
    "StatResult = pd.DataFrame(np.array([np.array(FeaturesPred_bycorr.columns), \n",
    "                                    np.round(result.params[1:], 4), \n",
    "                                    np.round(result.pvalues, 4)[1:]]).transpose(), \n",
    "                          columns=['Feature_ID', 'NR-method', 'pVal'])\n",
    "StatResult.insert(1, 'GD-method', np.round(Coef[to_keep],4))\n",
    "pValSig = StatResult.sort_values('pVal').query('pVal <= 0.1')\n",
    "pValShapIDX = list(pValSig.Feature_ID.astype('int32').values)\n",
    "pValSig"
   ]
  },
  {
   "cell_type": "markdown",
   "metadata": {},
   "source": [
    "### Table 4 Confusion Matrix of Maximum Similarity with the Representative Shapes"
   ]
  },
  {
   "cell_type": "code",
   "execution_count": 14,
   "metadata": {},
   "outputs": [
    {
     "data": {
      "text/plain": [
       "(30, 50)"
      ]
     },
     "execution_count": 14,
     "metadata": {},
     "output_type": "execute_result"
    }
   ],
   "source": [
    "# extract GenVec layer to obtain representative ABP trends\n",
    "tmpMo = Model(InputVec, GenVec)\n",
    "GenVecp = tmpMo.predict(ValInp[0:1, 9000:])\n",
    "GenVecp.shape"
   ]
  },
  {
   "cell_type": "code",
   "execution_count": 15,
   "metadata": {},
   "outputs": [
    {
     "name": "stdout",
     "output_type": "stream",
     "text": [
      "60/60 [==============================] - 2s 27ms/step\n"
     ]
    },
    {
     "data": {
      "text/plain": [
       "TensorShape([60000, 183, 30])"
      ]
     },
     "execution_count": 15,
     "metadata": {},
     "output_type": "execute_result"
    }
   ],
   "source": [
    "# extract LP5_Dist_sqrt to compute similarity with representative ABP trends\n",
    "tmpMo = Model(InputVec,LP5_Dist_sqrt)\n",
    "LP5Dist = tmpMo.predict(ValInp[:, 9000:], batch_size=1000, verbose=1)  # computing distance\n",
    "LP5Sim = K.exp(-LP5Dist)  # computing similarity\n",
    "LP5Sim.shape"
   ]
  },
  {
   "cell_type": "code",
   "execution_count": 16,
   "metadata": {},
   "outputs": [
    {
     "name": "stdout",
     "output_type": "stream",
     "text": [
      "Number of max similiarity with each shape for hypotension samples:  [27189     0]\n",
      "Number of max similiarity with each shape for non-hypotension samples:  [32811     0]\n"
     ]
    },
    {
     "data": {
      "text/html": [
       "<div>\n",
       "<style scoped>\n",
       "    .dataframe tbody tr th:only-of-type {\n",
       "        vertical-align: middle;\n",
       "    }\n",
       "\n",
       "    .dataframe tbody tr th {\n",
       "        vertical-align: top;\n",
       "    }\n",
       "\n",
       "    .dataframe thead th {\n",
       "        text-align: right;\n",
       "    }\n",
       "</style>\n",
       "<table border=\"1\" class=\"dataframe\">\n",
       "  <thead>\n",
       "    <tr style=\"text-align: right;\">\n",
       "      <th></th>\n",
       "      <th>28</th>\n",
       "      <th>29</th>\n",
       "    </tr>\n",
       "  </thead>\n",
       "  <tbody>\n",
       "    <tr>\n",
       "      <th>Hypo</th>\n",
       "      <td>27189</td>\n",
       "      <td>0</td>\n",
       "    </tr>\n",
       "    <tr>\n",
       "      <th>NonHypo</th>\n",
       "      <td>32811</td>\n",
       "      <td>0</td>\n",
       "    </tr>\n",
       "  </tbody>\n",
       "</table>\n",
       "</div>"
      ],
      "text/plain": [
       "            28  29\n",
       "Hypo     27189   0\n",
       "NonHypo  32811   0"
      ]
     },
     "execution_count": 16,
     "metadata": {},
     "output_type": "execute_result"
    }
   ],
   "source": [
    "### Count the number of samples with maximum similarity to each shape ###\n",
    "\n",
    "FrequentShap = []\n",
    "FrequentShapH = [] # Actual hypotension\n",
    "FrequentShapNH = [] # Actual non-hypotension\n",
    "\n",
    "for i in range(LP5Sim.shape[0]):\n",
    "    pValShap = np.array([LP5Sim[i][:,shapIDX] for shapIDX in pValShapIDX])\n",
    "    FrequentShap.append(np.bincount(np.argmax(pValShap, axis=0), minlength=len(pValShapIDX)).argmax())\n",
    "    if ValOut[i] == 1:\n",
    "        FrequentShapH.append(np.bincount(np.argmax(pValShap, axis=0), minlength=len(pValShapIDX)).argmax())\n",
    "    else:\n",
    "        FrequentShapNH.append(np.bincount(np.argmax(pValShap, axis=0), minlength=len(pValShapIDX)).argmax())\n",
    "             \n",
    "FrequentShapH = np.bincount(np.array(FrequentShapH), minlength=len(pValShapIDX))\n",
    "FreqGenVecH = GenVecp[pValShapIDX]\n",
    "FrequentShapNH = np.bincount(np.array(FrequentShapNH), minlength=len(pValShapIDX))\n",
    "FreqGenVecNH = GenVecp[pValShapIDX]\n",
    "\n",
    "print(\"Number of max similiarity with each shape for hypotension samples: \", FrequentShapH)\n",
    "print(\"Number of max similiarity with each shape for non-hypotension samples: \", FrequentShapNH)\n",
    "\n",
    "FreqCounts = pd.DataFrame([FrequentShapH, FrequentShapNH], index=['Hypo', 'NonHypo'], columns=pValShapIDX)\n",
    "FreqCounts"
   ]
  },
  {
   "cell_type": "code",
   "execution_count": 18,
   "metadata": {},
   "outputs": [
    {
     "name": "stdout",
     "output_type": "stream",
     "text": [
      "60/60 [==============================] - 1s 16ms/step\n",
      "\n",
      "\n",
      "ShapeID :  29\n",
      "                        Predicted as non-hypotension  Predicted as hypotension\n",
      "Actual non-hypotension                         27621                      5190\n",
      "Actual hypotension                              3682                     23507\n"
     ]
    }
   ],
   "source": [
    "### Compute confusion matrix for each shape ###\n",
    "\n",
    "# get predicted values\n",
    "ValPred = Model(InputVec, BinOut).predict(ValInp[:, 9000:], batch_size=1000, verbose=1)\n",
    "ValPred = np.where(np.reshape(ValPred, -1)>0.5, 1, 0)\n",
    "SimShap = np.vstack([np.array(FrequentShap), np.array(ValOut), np.array(ValPred)]) # axis 1 = True , 2 = Pred\n",
    "\n",
    "# confusion matrix\n",
    "from sklearn.metrics import confusion_matrix\n",
    "SimShap_i = SimShap.transpose()[np.where(SimShap[0]==0)[0]][:,1:]\n",
    "cf = confusion_matrix(SimShap_i[:,0], SimShap_i[:,1])\n",
    "cf = pd.DataFrame(cf, columns = ['Predicted as non-hypotension', 'Predicted as hypotension'], index = ['Actual non-hypotension', 'Actual hypotension'])\n",
    "print('\\n')\n",
    "print('ShapeID : ', pValShapIDX[i])\n",
    "print(cf)"
   ]
  },
  {
   "cell_type": "markdown",
   "metadata": {},
   "source": [
    "### Fig. 3c Representative shapes of local ABP trends"
   ]
  },
  {
   "cell_type": "code",
   "execution_count": 24,
   "metadata": {},
   "outputs": [
    {
     "data": {
      "image/png": "[encoded data removed]",
      "text/plain": [
       "<Figure size 720x216 with 1 Axes>"
      ]
     },
     "metadata": {
      "needs_background": "light"
     },
     "output_type": "display_data"
    }
   ],
   "source": [
    "plt.figure(figsize = (10,3))\n",
    "plt.xlim(0,FrameSize)\n",
    "plt.plot(GenVecp[pValShapIDX][1], label = 'Negative coefficient: Non-hypotension shape', lw=3)\n",
    "plt.xticks(fontsize='x-large')\n",
    "plt.yticks(fontsize='x-large')\n",
    "plt.xlabel('Local Interval', fontsize='x-large')\n",
    "plt.ylabel('Transformed ABP Value', fontsize='x-large')\n",
    "plt.legend(fontsize='x-large')\n",
    "plt.show()"
   ]
  },
  {
   "cell_type": "code",
   "execution_count": 25,
   "metadata": {},
   "outputs": [
    {
     "data": {
      "image/png": "[encoded data removed]",
      "text/plain": [
       "<Figure size 720x216 with 1 Axes>"
      ]
     },
     "metadata": {
      "needs_background": "light"
     },
     "output_type": "display_data"
    }
   ],
   "source": [
    "plt.figure(figsize = (10,3))\n",
    "plt.xlim(0,FrameSize)\n",
    "plt.plot(GenVecp[pValShapIDX][0], label = 'Positive coefficient: Hypotension shape', color='red', lw=3)\n",
    "plt.xticks(fontsize='x-large')\n",
    "plt.yticks(fontsize='x-large')\n",
    "plt.xlabel('Local Interval', fontsize='x-large')\n",
    "plt.ylabel('Transformed ABP Value', fontsize='x-large')\n",
    "plt.legend(fontsize='x-large')\n",
    "plt.show()"
   ]
  }
 ],
 "metadata": {
  "kernelspec": {
   "display_name": "Python 3",
   "language": "python",
   "name": "python3"
  },
  "language_info": {
   "codemirror_mode": {
    "name": "ipython",
    "version": 3
   },
   "file_extension": ".py",
   "mimetype": "text/x-python",
   "name": "python",
   "nbconvert_exporter": "python",
   "pygments_lexer": "ipython3",
   "version": "3.8.5"
  }
 },
 "nbformat": 4,
 "nbformat_minor": 4
}
