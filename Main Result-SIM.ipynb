{
 "cells": [
  {
   "cell_type": "markdown",
   "metadata": {},
   "source": [
    "# Main results with simulated dataset"
   ]
  },
  {
   "cell_type": "markdown",
   "metadata": {},
   "source": [
    "Section 5.A - Section 5.C in manuscript (Table 2-a, Table 3, Table 4, Fig. 3a, Fig. 4, Fig. 5)"
   ]
  },
  {
   "cell_type": "code",
   "execution_count": 1,
   "metadata": {},
   "outputs": [],
   "source": [
    "import numpy as np\n",
    "import pandas as pd\n",
    "import seaborn as sns \n",
    "import statsmodels.api as sm\n",
    "import matplotlib.pyplot as plt\n",
    "import os\n",
    "import math\n",
    "import platform\n",
    "import shap\n",
    "from sklearn import metrics\n",
    "\n",
    "import tensorflow as tf\n",
    "from tensorflow.keras import backend as K,losses\n",
    "from tensorflow.keras import regularizers\n",
    "from tensorflow.keras.layers import Input, Conv1D, MaxPooling1D, Dense, Activation,Dropout\n",
    "from tensorflow.keras.models import Model\n",
    "from tensorflow.keras.callbacks import ModelCheckpoint,EarlyStopping\n",
    "from tensorflow.keras.optimizers import Adam\n",
    "\n",
    "import tensorflow_probability as tfp"
   ]
  },
  {
   "cell_type": "raw",
   "metadata": {},
   "source": [
    "os.environ[\"CUDA_DEVICE_ORDER\"]=\"PCI_BUS_ID\"\n",
    "os.environ[\"CUDA_VISIBLE_DEVICES\"]=\"0\"\n",
    "\n",
    "\n",
    "# TensorFlow wizardry\n",
    "config = tf.compat.v1.ConfigProto()\n",
    "# Don't pre-allocate memory; allocate as-needed\n",
    "config.gpu_options.allow_growth = True\n",
    "# Only allow a total of half the GPU memory to be allocated\n",
    "config.gpu_options.per_process_gpu_memory_fraction = 0.97\n",
    "# Create a session with the above options specified.\n",
    "tf.compat.v1.keras.backend.set_session(tf.compat.v1.Session(config=config))  "
   ]
  },
  {
   "cell_type": "markdown",
   "metadata": {},
   "source": [
    "### Load dataset"
   ]
  },
  {
   "cell_type": "code",
   "execution_count": 2,
   "metadata": {},
   "outputs": [],
   "source": [
    "ABPInput = np.load('./ProcessedData/ABPInp_Val.npy')\n",
    "HypoOutput = np.load('./ProcessedData/HypoOut_Val.npy')"
   ]
  },
  {
   "cell_type": "code",
   "execution_count": 3,
   "metadata": {},
   "outputs": [
    {
     "data": {
      "text/plain": [
       "((500, 9000), (500, 1))"
      ]
     },
     "execution_count": 3,
     "metadata": {},
     "output_type": "execute_result"
    }
   ],
   "source": [
    "ABPInput.shape, HypoOutput.shape"
   ]
  },
  {
   "cell_type": "markdown",
   "metadata": {},
   "source": [
    "### Load model with weights"
   ]
  },
  {
   "cell_type": "code",
   "execution_count": 4,
   "metadata": {},
   "outputs": [],
   "source": [
    "def FilterGen (FC):\n",
    "\n",
    "    # Sinc function\n",
    "    X = (2 * FC * (RanVar[None] - (N - 1) / 2))\n",
    "    X = tf.where(X == 0, K.epsilon(), X)\n",
    "    SinF = tf.sin(np.pi*X)/(np.pi*X)\n",
    "\n",
    "    # Black man window\n",
    "    BW = 0.42 - 0.5 * tf.math.cos(2 * np.pi * RanVar / (N - 1)) +  0.08 * tf.math.cos(4 * np.pi * RanVar / (N - 1))\n",
    "\n",
    "    SinFBW = SinF * BW\n",
    "    LP = SinFBW /  K.sum(SinFBW, axis=-1, keepdims=True)\n",
    "    HP = -LP\n",
    "    TmpZeros = tf.zeros((N - 1) // 2)\n",
    "    TmpOnes = tf.ones(1)\n",
    "    AddOne = tf.concat([TmpZeros,TmpOnes,TmpZeros], axis=0)\n",
    "    HP += AddOne\n",
    "\n",
    "    return LP, HP\n",
    "\n",
    "\n",
    "def DownSampling (ToDown):\n",
    "    if ToDown.shape[1] % 2 != 0: # if odd number, the first two values will be averaged and then concatenated\n",
    "        ToDown = tf.concat([K.mean(ToDown[:, :2], axis=1, keepdims=True), ToDown[:, 2:]], axis=1)\n",
    "    return K.mean(tf.signal.frame(ToDown[:,:,0], 2,2, axis=1), axis=-1)   \n",
    "\n",
    "    \n",
    "class DoGenVec(tf.keras.layers.Layer):\n",
    "    \n",
    "    def __init__(self, OutDimes):\n",
    "        super(DoGenVec, self).__init__()\n",
    "        self.Shapelet1Size = OutDimes[0]\n",
    "        self.WinSize = OutDimes[1]\n",
    "    \n",
    "    def get_config(self):\n",
    "\n",
    "        config = super().get_config().copy()\n",
    "        config.update({\n",
    "            'Shapelet1Size': self.Shapelet1Size,\n",
    "            'WinSize': self.WinSize})\n",
    "        return config\n",
    "    \n",
    "    def build(self, input_shape):\n",
    "        self.GenVec = self.add_weight(\"GenVec\", shape=[self.Shapelet1Size, self.WinSize], initializer=tf.keras.initializers.RandomNormal(mean=0.0, stddev=0.01))\n",
    "    \n",
    "    def call(self, input):\n",
    "        input = K.sum(input) * 0 + 1 # Weight matrix만 return 해주기 위해 이전 input tensor 값을 스칼라 1로 변경 후 weight matrix와 곱함, weight matrix만 return 할 경우 극심한 warning message...\n",
    "        return (input*self.GenVec)"
   ]
  },
  {
   "cell_type": "code",
   "execution_count": 5,
   "metadata": {},
   "outputs": [],
   "source": [
    "Shapelet1Size = 30\n",
    "PaddSideForSim = 12\n",
    "FrameSize = 50\n",
    "AttSize = 5\n",
    "\n",
    "b = 0.08 # Transition band, as a fraction of the sampling rate (in (0, 0.5)).\n",
    "N = int(np.ceil((4 / b)))\n",
    "if not N % 2:  # Make sure that N is odd.\n",
    "    N += 1  \n",
    "RanVar = tf.constant(np.arange(N), dtype=tf.float32)\n",
    "PaddSideForConv = (N-1)//2\n",
    "\n",
    "\n",
    "InputVec = Input(shape=(9000), name='Input')\n",
    "\n",
    "### A. Discrete wavelet transform layers ###\n",
    "\n",
    "# DWT 1st level\n",
    "FC1 = Conv1D(filters= 1,kernel_size= 20, strides=20//5, activation='softplus')(InputVec[:,:,None])\n",
    "FC1 = MaxPooling1D(pool_size=20,strides=20//5)(FC1)\n",
    "FC1 = Conv1D(filters= 1,kernel_size= 10, strides=10//2)(FC1)\n",
    "FC1 = MaxPooling1D(pool_size=10,strides=10//2)(FC1)[:,:,0]\n",
    "FC1 = Dense(10, activation='relu')(FC1)\n",
    "FC1 = Dense(1, activation='sigmoid')(FC1)\n",
    "FC1 = FC1*(0.5-K.epsilon())+K.epsilon()\n",
    "LP1, HP1 =  FilterGen (FC1)\n",
    "\n",
    "InputVecPad = tf.signal.frame(InputVec, N, 1)\n",
    "LP1_res = K.sum(InputVecPad * LP1[:,None,:], axis=-1, keepdims=True)\n",
    "LP1_Down = DownSampling(LP1_res)\n",
    "\n",
    "\n",
    "# DWT 2nd level\n",
    "FC2 = Conv1D(filters= 1,kernel_size= 20, strides=20//5, activation='softplus')(LP1_Down[:,:,None])\n",
    "FC2 = MaxPooling1D(pool_size=20,strides=20//5)(FC2)\n",
    "FC2 = Conv1D(filters= 1,kernel_size= 10, strides=10//2)(FC2)\n",
    "FC2 = MaxPooling1D(pool_size=10,strides=10//2)(FC2)[:,:,0]\n",
    "FC2 = Dense(10, activation='relu')(FC2)\n",
    "FC2 = Dense(1, activation='sigmoid')(FC2)\n",
    "FC2 = FC2*(0.5-K.epsilon())+K.epsilon()\n",
    "LP2, HP2 =  FilterGen (FC2)\n",
    "\n",
    "LP1_DownPad = tf.signal.frame(LP1_Down, N, 1)\n",
    "LP2_res = K.sum(LP1_DownPad * LP2[:,None,:], axis=-1, keepdims=True)\n",
    "LP2_Down = DownSampling(LP2_res)\n",
    "\n",
    "\n",
    "# DWT 3rd level\n",
    "FC3 = Conv1D(filters= 1,kernel_size= 10, strides=10//4, activation='softplus')(LP2_Down[:,:,None])\n",
    "FC3 = MaxPooling1D(pool_size=10,strides=10//4)(FC3)\n",
    "FC3 = Conv1D(filters= 1,kernel_size= 10, strides=10//2)(FC3)\n",
    "FC3 = MaxPooling1D(pool_size=10,strides=10//2)(FC3)[:,:,0]\n",
    "FC3 = Dense(10, activation='relu')(FC3)\n",
    "FC3 = Dense(1, activation='sigmoid')(FC3)\n",
    "FC3 = FC3*(0.5-K.epsilon())+K.epsilon()\n",
    "LP3, HP3 =  FilterGen (FC3)\n",
    "\n",
    "LP2_DownPad = tf.signal.frame(LP2_Down, N, 1)\n",
    "LP3_res = K.sum(LP2_DownPad * LP3[:,None,:], axis=-1, keepdims=True)\n",
    "LP3_Down = DownSampling(LP3_res)\n",
    "\n",
    "\n",
    "# DWT 4th level\n",
    "FC4 = Conv1D(filters= 1,kernel_size= 10, strides=10//2, activation='softplus')(LP3_Down[:,:,None])\n",
    "FC4 = MaxPooling1D(pool_size=10,strides=10//2)(FC4)\n",
    "FC4 = Conv1D(filters= 1,kernel_size= 5, strides=5//2)(FC4)\n",
    "FC4 = MaxPooling1D(pool_size=5,strides=5//2)(FC4)[:,:,0]\n",
    "FC4 = Dense(10, activation='relu')(FC4)\n",
    "FC4 = Dense(1, activation='sigmoid')(FC4)\n",
    "FC4 = FC4*(0.5-K.epsilon())+K.epsilon()\n",
    "LP4, HP4 =  FilterGen (FC4)\n",
    "\n",
    "LP3_DownPad = tf.signal.frame(LP3_Down, N, 1)\n",
    "LP4_res = K.sum(LP3_DownPad * LP4[:,None,:], axis=-1, keepdims=True)\n",
    "LP4_Down = DownSampling(LP4_res)\n",
    "\n",
    "\n",
    "# DWT 5th level\n",
    "FC5 = Conv1D(filters= 1,kernel_size= 10, strides=10//2, activation='softplus')(LP4_Down[:,:,None])\n",
    "FC5 = MaxPooling1D(pool_size=10,strides=10//2)(FC5)\n",
    "FC5 = Conv1D(filters= 1,kernel_size= 5, strides=5//2)(FC5)\n",
    "FC5 = MaxPooling1D(pool_size=5,strides=5//2)(FC5)[:,:,0]\n",
    "FC5 = Dense(10, activation='relu')(FC5)\n",
    "FC5 = Dense(1, activation='sigmoid')(FC5)\n",
    "FC5 = FC5*(0.5-K.epsilon())+K.epsilon()\n",
    "LP5, HP5 =  FilterGen (FC5)\n",
    "\n",
    "LP4_DownPad = tf.signal.frame(LP4_Down, N, 1)\n",
    "LP5_res = K.sum(LP4_DownPad * LP5[:,None,:], axis=-1, keepdims=True)\n",
    "LP5_Down = DownSampling(LP5_res)\n",
    "\n",
    "LP5_FeatDim = tf.signal.frame(LP5_Down, FrameSize, 1)\n",
    "\n",
    "\n",
    "### B. Local shape similarity layers ###\n",
    "GenVecLayer = DoGenVec([Shapelet1Size, FrameSize])\n",
    "GenVec = Activation('sigmoid')(GenVecLayer(InputVec)) \n",
    "\n",
    "LP5_X_sqare = K.sum(K.square(LP5_FeatDim), axis=2,keepdims=True)\n",
    "LP5_Y_sqare = K.sum(K.square(GenVec[:]), axis=1)[None,None]\n",
    "LP5_XY = tf.matmul(LP5_FeatDim, GenVec[:], transpose_b=True)\n",
    "LP5_Dist = (LP5_X_sqare + LP5_Y_sqare - 2*LP5_XY) \n",
    "LP5_Dist_sqrt = K.sqrt(LP5_Dist+K.epsilon())\n",
    "\n",
    "\n",
    "### C. Local imporatnce layers ###\n",
    "\n",
    "# Interval-Wise importance and select interval\n",
    "LP5_ATT = Conv1D(filters= 1,kernel_size= FrameSize, activation='softplus', strides=1,padding=\"same\")(Dropout(0.0)(LP5_Down[:,:,None]))\n",
    "LP5_ATT = MaxPooling1D(pool_size=FrameSize//2,strides=FrameSize//4)(LP5_ATT)\n",
    "LP5_ATT = Dense(30, activation='relu')(LP5_ATT[:,:,0])\n",
    "LP5_Mus = Dense(AttSize, activation='sigmoid')(LP5_ATT)\n",
    "\n",
    "dist = tfp.distributions.Normal( LP5_Mus[:,:,None], 0.075, name='Normal') # Scale = 0.075 는 KvRate[KvRate>0.5] := FrameSize 이 되게끔 만들어줌\n",
    "RandVec = tf.constant(np.linspace(0, 1, LP5_FeatDim.shape[1]), dtype=tf.float32)[None,None]\n",
    "RandVec = tf.tile(RandVec, (K.shape(LP5_Mus)[0], AttSize, 1))\n",
    "KerVal = dist.prob(RandVec)\n",
    "MinKV = K.min(KerVal, axis=-1, keepdims=True)\n",
    "MaxKV = K.max(KerVal, axis=-1, keepdims=True)\n",
    "KvRate = (KerVal - MinKV)/(MaxKV - MinKV)\n",
    "AggKvRate = K.sum(KvRate, axis=1)\n",
    "\n",
    "\n",
    "### D. Regresion layers ###\n",
    "Features_W = K.exp(-LP5_Dist_sqrt) * AggKvRate[:,:,None]\n",
    "Features = K.max(Features_W, axis=1) \n",
    "BinOut = Dense(1, activation='sigmoid',kernel_regularizer=regularizers.l1_l2(l1=1e-5, l2=0),name='BinOut')(Dropout(0.0)(Features))\n",
    "\n",
    "BinModel = Model(InputVec, BinOut)\n",
    "\n",
    "\n",
    "### Add cluster loss ###\n",
    "LP5_Dist_exp = tf.tile(LP5_Dist[:,None], (1,AttSize,1,1)) # Batch, AttNum, Interval, Centroid\n",
    "KvRate_MaxInd = K.argmax(KvRate, axis=-1) # 60 는 # of KvRate[KvRate>0.01] := 60 , 즉 조금(0.01)이랑 영향을 받는 obs의 갯수\n",
    "Att_Loss = K.min(tf.gather_nd(LP5_Dist_exp,KvRate_MaxInd[:,:,None], batch_dims=2 ), axis=-1)\n",
    "ClLoss = K.mean(Att_Loss * K.max(KvRate, axis=-1))\n",
    "\n",
    "BinModel.add_loss(ClLoss)\n",
    "BinModel.add_metric(ClLoss, name='ClLoss')\n",
    "\n",
    "lrate = 0.0005\n",
    "decay = 1e-6\n",
    "adam = tf.keras.optimizers.Adam(lr=lrate, beta_1=0.9, beta_2=0.999, epsilon=1e-08,decay=decay)\n",
    "BinModel.compile(loss='binary_crossentropy', optimizer='adam',  metrics={'BinOut':['binary_crossentropy','AUC']}, ) \n",
    "BinModel.load_weights('./ModelResults/ModelTrained_ShapeBin_1047_0.36678_0.91418_0.00266_0.39022_0.90345_0.00275.hdf5') "
   ]
  },
  {
   "cell_type": "code",
   "execution_count": 6,
   "metadata": {},
   "outputs": [],
   "source": [
    "def predict_vals(Input_layer, Output_layer, Input_data):\n",
    "    \n",
    "    tmpMo = Model(Input_layer, Output_layer)\n",
    "    pred_vals = tmpMo.predict(Input_data, batch_size=1000, verbose=1)\n",
    "    \n",
    "    return pred_vals"
   ]
  },
  {
   "cell_type": "markdown",
   "metadata": {},
   "source": [
    "## A. Prediction Performance"
   ]
  },
  {
   "cell_type": "markdown",
   "metadata": {
    "tags": []
   },
   "source": [
    "#### Table 2.a Prediction Performance"
   ]
  },
  {
   "cell_type": "code",
   "execution_count": 7,
   "metadata": {},
   "outputs": [
    {
     "name": "stdout",
     "output_type": "stream",
     "text": [
      "1/1 [==============================] - 12s 12s/step\n"
     ]
    },
    {
     "data": {
      "text/plain": [
       "0.49947165254145903"
      ]
     },
     "execution_count": 7,
     "metadata": {},
     "output_type": "execute_result"
    }
   ],
   "source": [
    "pred = predict_vals(InputVec, BinOut, ABPInput)\n",
    "fprIV, tprIV, thresholdsIV = metrics.roc_curve(HypoOutput[:], pred, pos_label=1)\n",
    "metrics.auc(fprIV, tprIV)"
   ]
  },
  {
   "cell_type": "markdown",
   "metadata": {},
   "source": [
    "## B. Evaluation on Interpretability"
   ]
  },
  {
   "cell_type": "markdown",
   "metadata": {
    "tags": []
   },
   "source": [
    "### 1) Statistical Significance of Association Between Generated ABP Shapes and Hypotension"
   ]
  },
  {
   "cell_type": "markdown",
   "metadata": {},
   "source": [
    "#### Table 3 Coefficient Values from the Logit Layer "
   ]
  },
  {
   "cell_type": "markdown",
   "metadata": {},
   "source": [
    "Coefficients by gradient descent method"
   ]
  },
  {
   "cell_type": "code",
   "execution_count": 8,
   "metadata": {},
   "outputs": [],
   "source": [
    "# extract logistic regression layer from model\n",
    "Coef = BinModel.get_layer('BinOut').get_weights()[0]"
   ]
  },
  {
   "cell_type": "markdown",
   "metadata": {},
   "source": [
    "Coefficients by Newton-Raphson method"
   ]
  },
  {
   "cell_type": "code",
   "execution_count": 9,
   "metadata": {},
   "outputs": [
    {
     "name": "stdout",
     "output_type": "stream",
     "text": [
      "1/1 [==============================] - 1s 1s/step\n"
     ]
    }
   ],
   "source": [
    "# extract similarity values (x) for logistic regression\n",
    "FeaturesPred = predict_vals(InputVec, Features, ABPInput)"
   ]
  },
  {
   "cell_type": "code",
   "execution_count": 10,
   "metadata": {},
   "outputs": [
    {
     "name": "stdout",
     "output_type": "stream",
     "text": [
      "[0, 1, 2, 3, 4, 5, 6, 7, 8, 9, 10, 11, 12, 13, 14, 15, 16, 17, 18, 19, 20, 22, 23, 24, 25]\n",
      "[21, 26, 27, 28, 29]\n",
      "Num of Features to Keep :  5\n"
     ]
    },
    {
     "data": {
      "text/plain": [
       "<AxesSubplot:>"
      ]
     },
     "execution_count": 10,
     "metadata": {},
     "output_type": "execute_result"
    },
    {
     "data": {
      "image/png": "[encoded data removed]",
      "text/plain": [
       "<Figure size 432x288 with 2 Axes>"
      ]
     },
     "metadata": {
      "needs_background": "light"
     },
     "output_type": "display_data"
    }
   ],
   "source": [
    "### Filter by correlation ###\n",
    "\n",
    "# Create correlation matrix\n",
    "FeaturesPred = pd.DataFrame(FeaturesPred)\n",
    "FeaturesPred['Hypo'] = HypoOutput\n",
    "FeaturesCorr = FeaturesPred.corr()\n",
    "corr_matrix = FeaturesCorr.abs()\n",
    "\n",
    "# Select upper triangle of correlation matrix\n",
    "upper = corr_matrix.where(np.tril(np.ones(corr_matrix.shape), k=-1).astype(np.bool))\n",
    "\n",
    "# Find features with correlation greater than 0.8\n",
    "to_drop = [column for column in upper.columns if any(upper[column] > 0.8)]\n",
    "to_keep = [x for x in list(range(Shapelet1Size)) if x not in to_drop]\n",
    "\n",
    "print(to_drop) \n",
    "print(to_keep) \n",
    "print('Num of Features to Keep : ', len(to_keep))\n",
    "# Drop highly correlated features \n",
    "FeaturesPred_bycorr = corr_matrix[to_keep]\n",
    "\n",
    "sns.heatmap(data = FeaturesCorr.loc[to_keep,to_keep], annot=True, annot_kws={\"fontsize\":14}, cmap='coolwarm', vmin=-1, vmax=1)"
   ]
  },
  {
   "cell_type": "code",
   "execution_count": 11,
   "metadata": {},
   "outputs": [
    {
     "name": "stdout",
     "output_type": "stream",
     "text": [
      "Optimization terminated successfully.\n",
      "         Current function value: 0.549442\n",
      "         Iterations 6\n"
     ]
    }
   ],
   "source": [
    "### Logistic regression: X = similarity vlaues, y = hypotension label ###\n",
    "\n",
    "# DataSet Preparation\n",
    "X = np.array(FeaturesPred.copy().iloc[:,list(FeaturesPred_bycorr.columns)])\n",
    "X = sm.add_constant(X)\n",
    "y = HypoOutput.copy()\n",
    "\n",
    "# Fit Logit Model\n",
    "LogitModel = sm.Logit(y, X)\n",
    "result = LogitModel.fit()"
   ]
  },
  {
   "cell_type": "code",
   "execution_count": 12,
   "metadata": {},
   "outputs": [
    {
     "data": {
      "text/html": [
       "<div>\n",
       "<style scoped>\n",
       "    .dataframe tbody tr th:only-of-type {\n",
       "        vertical-align: middle;\n",
       "    }\n",
       "\n",
       "    .dataframe tbody tr th {\n",
       "        vertical-align: top;\n",
       "    }\n",
       "\n",
       "    .dataframe thead th {\n",
       "        text-align: right;\n",
       "    }\n",
       "</style>\n",
       "<table border=\"1\" class=\"dataframe\">\n",
       "  <thead>\n",
       "    <tr style=\"text-align: right;\">\n",
       "      <th></th>\n",
       "      <th>Feature_ID</th>\n",
       "      <th>GD-method</th>\n",
       "      <th>NR-method</th>\n",
       "      <th>pVal</th>\n",
       "    </tr>\n",
       "  </thead>\n",
       "  <tbody>\n",
       "    <tr>\n",
       "      <th>3</th>\n",
       "      <td>28</td>\n",
       "      <td>-2.8927</td>\n",
       "      <td>1.6963</td>\n",
       "      <td>0.1554</td>\n",
       "    </tr>\n",
       "    <tr>\n",
       "      <th>4</th>\n",
       "      <td>29</td>\n",
       "      <td>0.4064</td>\n",
       "      <td>-0.4451</td>\n",
       "      <td>0.2848</td>\n",
       "    </tr>\n",
       "  </tbody>\n",
       "</table>\n",
       "</div>"
      ],
      "text/plain": [
       "  Feature_ID  GD-method NR-method    pVal\n",
       "3         28    -2.8927    1.6963  0.1554\n",
       "4         29     0.4064   -0.4451  0.2848"
      ]
     },
     "execution_count": 12,
     "metadata": {},
     "output_type": "execute_result"
    }
   ],
   "source": [
    "### Filter by p-value ###\n",
    "\n",
    "StatResult = pd.DataFrame(np.array([np.array(FeaturesPred_bycorr.columns), \n",
    "                                    np.round(result.params[1:], 4), \n",
    "                                    np.round(result.pvalues, 4)[1:]]).transpose(), \n",
    "                          columns=['Feature_ID', 'NR-method', 'pVal'])\n",
    "StatResult.insert(1, 'GD-method', np.round(Coef[to_keep],4))\n",
    "pValSig = StatResult.sort_values('pVal').query('pVal <= 0.3') # pVal <= 0.1 in actual code BUT 0.3 for this simulated example\n",
    "pValShapIDX = list(pValSig.Feature_ID.astype('int32').values)\n",
    "pValSig"
   ]
  },
  {
   "cell_type": "markdown",
   "metadata": {},
   "source": [
    "#### Table 4 Confusion Matrix of Maximum Similarity with the Representative Shapes"
   ]
  },
  {
   "cell_type": "code",
   "execution_count": 13,
   "metadata": {},
   "outputs": [
    {
     "name": "stdout",
     "output_type": "stream",
     "text": [
      "1/1 [==============================] - 0s 32ms/step\n"
     ]
    },
    {
     "data": {
      "text/plain": [
       "(30, 50)"
      ]
     },
     "execution_count": 13,
     "metadata": {},
     "output_type": "execute_result"
    }
   ],
   "source": [
    "# extract GenVec layer to obtain representative ABP trends\n",
    "GenVecp = predict_vals(InputVec, GenVec, ABPInput[0:1, :])\n",
    "GenVecp.shape"
   ]
  },
  {
   "cell_type": "code",
   "execution_count": 14,
   "metadata": {},
   "outputs": [
    {
     "name": "stdout",
     "output_type": "stream",
     "text": [
      "1/1 [==============================] - 1s 1s/step\n"
     ]
    },
    {
     "data": {
      "text/plain": [
       "TensorShape([500, 183, 30])"
      ]
     },
     "execution_count": 14,
     "metadata": {},
     "output_type": "execute_result"
    }
   ],
   "source": [
    "# extract LP5_Dist_sqrt to compute similarity with representative ABP trends\n",
    "LP5Dist = predict_vals(InputVec, LP5_Dist_sqrt, ABPInput)  # computing distance\n",
    "LP5Sim = K.exp(-LP5Dist)  # computing similarity\n",
    "LP5Sim.shape"
   ]
  },
  {
   "cell_type": "code",
   "execution_count": 15,
   "metadata": {},
   "outputs": [
    {
     "name": "stdout",
     "output_type": "stream",
     "text": [
      "Number of max similiarity with each shape for hypotension samples:  [97 26]\n",
      "Number of max similiarity with each shape for non-hypotension samples:  [216 161]\n"
     ]
    },
    {
     "data": {
      "text/html": [
       "<div>\n",
       "<style scoped>\n",
       "    .dataframe tbody tr th:only-of-type {\n",
       "        vertical-align: middle;\n",
       "    }\n",
       "\n",
       "    .dataframe tbody tr th {\n",
       "        vertical-align: top;\n",
       "    }\n",
       "\n",
       "    .dataframe thead th {\n",
       "        text-align: right;\n",
       "    }\n",
       "</style>\n",
       "<table border=\"1\" class=\"dataframe\">\n",
       "  <thead>\n",
       "    <tr style=\"text-align: right;\">\n",
       "      <th></th>\n",
       "      <th>28</th>\n",
       "      <th>29</th>\n",
       "    </tr>\n",
       "  </thead>\n",
       "  <tbody>\n",
       "    <tr>\n",
       "      <th>Hypo</th>\n",
       "      <td>97</td>\n",
       "      <td>26</td>\n",
       "    </tr>\n",
       "    <tr>\n",
       "      <th>NonHypo</th>\n",
       "      <td>216</td>\n",
       "      <td>161</td>\n",
       "    </tr>\n",
       "  </tbody>\n",
       "</table>\n",
       "</div>"
      ],
      "text/plain": [
       "          28   29\n",
       "Hypo      97   26\n",
       "NonHypo  216  161"
      ]
     },
     "execution_count": 15,
     "metadata": {},
     "output_type": "execute_result"
    }
   ],
   "source": [
    "### Count the number of samples with maximum similarity to each shape ###\n",
    "\n",
    "FrequentShap = []\n",
    "FrequentShapH = [] # Actual hypotension\n",
    "FrequentShapNH = [] # Actual non-hypotension\n",
    "\n",
    "for i in range(LP5Sim.shape[0]):\n",
    "    pValShap = np.array([LP5Sim[i][:,shapIDX] for shapIDX in pValShapIDX])\n",
    "    FrequentShap.append(np.bincount(np.argmax(pValShap, axis=0), minlength=len(pValShapIDX)).argmax())\n",
    "    if HypoOutput[i] == 1:\n",
    "        FrequentShapH.append(np.bincount(np.argmax(pValShap, axis=0), minlength=len(pValShapIDX)).argmax())\n",
    "    else:\n",
    "        FrequentShapNH.append(np.bincount(np.argmax(pValShap, axis=0), minlength=len(pValShapIDX)).argmax())\n",
    "             \n",
    "FrequentShapH = np.bincount(np.array(FrequentShapH), minlength=len(pValShapIDX))\n",
    "FreqGenVecH = GenVecp[pValShapIDX]\n",
    "FrequentShapNH = np.bincount(np.array(FrequentShapNH), minlength=len(pValShapIDX))\n",
    "FreqGenVecNH = GenVecp[pValShapIDX]\n",
    "\n",
    "print(\"Number of max similiarity with each shape for hypotension samples: \", FrequentShapH)\n",
    "print(\"Number of max similiarity with each shape for non-hypotension samples: \", FrequentShapNH)\n",
    "\n",
    "FreqCounts = pd.DataFrame([FrequentShapH, FrequentShapNH], index=['Hypo', 'NonHypo'], columns=pValShapIDX)\n",
    "FreqCounts"
   ]
  },
  {
   "cell_type": "code",
   "execution_count": 16,
   "metadata": {},
   "outputs": [
    {
     "name": "stdout",
     "output_type": "stream",
     "text": [
      "WARNING:tensorflow:5 out of the last 5 calls to <function Model.make_predict_function.<locals>.predict_function at 0x0000021104BBD700> triggered tf.function retracing. Tracing is expensive and the excessive number of tracings could be due to (1) creating @tf.function repeatedly in a loop, (2) passing tensors with different shapes, (3) passing Python objects instead of tensors. For (1), please define your @tf.function outside of the loop. For (2), @tf.function has experimental_relax_shapes=True option that relaxes argument shapes that can avoid unnecessary retracing. For (3), please refer to https://www.tensorflow.org/guide/function#controlling_retracing and https://www.tensorflow.org/api_docs/python/tf/function for  more details.\n",
      "1/1 [==============================] - 1s 1s/step\n",
      "\n",
      "\n",
      "ShapeID :  28\n",
      "                        Predicted as non-hypotension  Predicted as hypotension\n",
      "Actual non-hypotension                           213                         3\n",
      "Actual hypotension                                87                        10\n",
      "\n",
      "\n",
      "ShapeID :  29\n",
      "                        Predicted as non-hypotension  Predicted as hypotension\n",
      "Actual non-hypotension                            74                        87\n",
      "Actual hypotension                                 3                        23\n"
     ]
    }
   ],
   "source": [
    "### Compute confusion matrix for each shape ###\n",
    "\n",
    "# get predicted values\n",
    "ValPred = predict_vals(InputVec, BinOut, ABPInput)\n",
    "ValPred = np.where(np.reshape(ValPred, -1)>0.5, 1, 0)\n",
    "SimShap = np.vstack([np.array(FrequentShap), np.array(HypoOutput).squeeze(), np.array(ValPred)]) # axis 1 = True , 2 = Pred\n",
    "\n",
    "# confusion matrix\n",
    "for i in range(len(pValShapIDX)):\n",
    "    SimShap_i = SimShap.transpose()[np.where(SimShap[0]==i)[0]][:,1:]\n",
    "    cf = metrics.confusion_matrix(SimShap_i[:,0], SimShap_i[:,1])\n",
    "    cf = pd.DataFrame(cf, columns = ['Predicted as non-hypotension', 'Predicted as hypotension'], index = ['Actual non-hypotension', 'Actual hypotension'])\n",
    "    print('\\n')\n",
    "    print('ShapeID : ', pValShapIDX[i])\n",
    "    print(cf)"
   ]
  },
  {
   "cell_type": "markdown",
   "metadata": {},
   "source": [
    "### 2) Exploratory Data Analysis"
   ]
  },
  {
   "cell_type": "markdown",
   "metadata": {},
   "source": [
    "#### Fig. 3a Representative shapes of local ABP trends "
   ]
  },
  {
   "cell_type": "code",
   "execution_count": 17,
   "metadata": {},
   "outputs": [],
   "source": [
    "def plot_ABPtrend(data, lc):\n",
    "\n",
    "    plt.figure(figsize = (10,3))\n",
    "    plt.xlim(0,FrameSize)\n",
    "    plt.plot(data, color=lc, lw=3)\n",
    "    plt.xticks(fontsize='x-large')\n",
    "    plt.yticks(fontsize='x-large')\n",
    "    plt.xlabel('Local Interval', fontsize='large')\n",
    "    plt.ylabel('Transformed ABP Value', fontsize='x-large')\n",
    "    plt.show()"
   ]
  },
  {
   "cell_type": "code",
   "execution_count": 18,
   "metadata": {},
   "outputs": [
    {
     "data": {
      "image/png": "[encoded data removed]",
      "text/plain": [
       "<Figure size 720x216 with 1 Axes>"
      ]
     },
     "metadata": {
      "needs_background": "light"
     },
     "output_type": "display_data"
    },
    {
     "data": {
      "image/png": "[encoded data removed]",
      "text/plain": [
       "<Figure size 720x216 with 1 Axes>"
      ]
     },
     "metadata": {
      "needs_background": "light"
     },
     "output_type": "display_data"
    }
   ],
   "source": [
    "plot_ABPtrend(GenVecp[pValShapIDX][0], lc='red')\n",
    "plot_ABPtrend(GenVecp[pValShapIDX][1], lc='blue')"
   ]
  },
  {
   "cell_type": "markdown",
   "metadata": {},
   "source": [
    "#### Fig. 4 Counts for each local interval that is influential in the prediction of hypotension"
   ]
  },
  {
   "cell_type": "code",
   "execution_count": 19,
   "metadata": {},
   "outputs": [
    {
     "name": "stdout",
     "output_type": "stream",
     "text": [
      "WARNING:tensorflow:6 out of the last 6 calls to <function Model.make_predict_function.<locals>.predict_function at 0x000002173D111700> triggered tf.function retracing. Tracing is expensive and the excessive number of tracings could be due to (1) creating @tf.function repeatedly in a loop, (2) passing tensors with different shapes, (3) passing Python objects instead of tensors. For (1), please define your @tf.function outside of the loop. For (2), @tf.function has experimental_relax_shapes=True option that relaxes argument shapes that can avoid unnecessary retracing. For (3), please refer to https://www.tensorflow.org/guide/function#controlling_retracing and https://www.tensorflow.org/api_docs/python/tf/function for  more details.\n",
      "1/1 [==============================] - 1s 1s/step\n"
     ]
    },
    {
     "data": {
      "text/plain": [
       "(500, 5, 183)"
      ]
     },
     "execution_count": 19,
     "metadata": {},
     "output_type": "execute_result"
    }
   ],
   "source": [
    "# extract local importance layer from the model \n",
    "LocalIntMat = predict_vals(InputVec, KvRate, ABPInput)\n",
    "LocalIntMat.shape"
   ]
  },
  {
   "cell_type": "code",
   "execution_count": 20,
   "metadata": {},
   "outputs": [
    {
     "data": {
      "image/png": "[encoded data removed]",
      "text/plain": [
       "<Figure size 648x216 with 1 Axes>"
      ]
     },
     "metadata": {
      "needs_background": "light"
     },
     "output_type": "display_data"
    }
   ],
   "source": [
    "# count the number of values at each interval \n",
    "AttMatIDX = np.argmax(LocalIntMat, axis=2)\n",
    "AttMatrix = np.zeros((LocalIntMat.shape[0],LocalIntMat.shape[2]))\n",
    "for i in range(AttMatrix.shape[0]):\n",
    "    AttMatrix[i,AttMatIDX[i,:]] = 1\n",
    "\n",
    "plt.figure(figsize=(9,3))\n",
    "plt.xlim(-1,183)\n",
    "plt.xlabel('Compressed LP5 Interval', fontsize='x-large')\n",
    "plt.ylabel('Counts', fontsize='x-large')\n",
    "plt.xticks(fontsize='x-large')\n",
    "plt.yticks(fontsize='x-large')\n",
    "plt.bar(np.arange(AttMatrix.shape[1]), np.sum(AttMatrix, axis=0))\n",
    "plt.show()"
   ]
  },
  {
   "cell_type": "markdown",
   "metadata": {},
   "source": [
    "## C. Model Interpretability by SHAP"
   ]
  },
  {
   "cell_type": "markdown",
   "metadata": {},
   "source": [
    "Predicting SHAP values"
   ]
  },
  {
   "cell_type": "code",
   "execution_count": 21,
   "metadata": {},
   "outputs": [
    {
     "name": "stderr",
     "output_type": "stream",
     "text": [
      "`tf.keras.backend.set_learning_phase` is deprecated and will be removed after 2020-10-11. To update it, simply pass a True/False value to the `training` argument of the `__call__` method of your layer or model.\n"
     ]
    }
   ],
   "source": [
    "#explainer = shap.GradientExplainer(Model(InputVec, BinOut), ABPInput, batch_size=1000)\n",
    "explainer = shap.GradientExplainer(Model(InputVec, BinOut), [ABPInput], batch_size=1000)\n",
    "\n",
    "SHAPpred_raw = explainer.shap_values(ABPInput)[0]"
   ]
  },
  {
   "cell_type": "markdown",
   "metadata": {},
   "source": [
    "Computing average SHAP values for hypotension / non-hypotension samples"
   ]
  },
  {
   "cell_type": "code",
   "execution_count": 22,
   "metadata": {},
   "outputs": [
    {
     "data": {
      "text/plain": [
       "('2.4.0', '0.12.2', '0.40.0', '1.19.5')"
      ]
     },
     "execution_count": 22,
     "metadata": {},
     "output_type": "execute_result"
    }
   ],
   "source": [
    "tf.__version__ , tfp.__version__, shap.__version__, np.__version__"
   ]
  },
  {
   "cell_type": "code",
   "execution_count": 23,
   "metadata": {},
   "outputs": [],
   "source": [
    "SHAPpred_raw = np.concatenate([np.reshape(HypoOutput, (-1,1)), SHAPpred_raw], axis=1)\n",
    "\n",
    "SHAPpred = SHAPpred_raw[~np.isnan(SHAPpred_raw).any(axis=1)] # delete row if NA\n",
    "SHAPhypoLAB = SHAPpred[:,0]\n",
    "\n",
    "SHAPpred_ALL = SHAPpred[:,1:]\n",
    "SHAPpred_NONHYPO = SHAPpred_ALL[np.where(SHAPhypoLAB==0)]\n",
    "SHAPpred_HYPO = SHAPpred_ALL[np.where(SHAPhypoLAB==1)]"
   ]
  },
  {
   "cell_type": "markdown",
   "metadata": {},
   "source": [
    "#### Fig. 5 Mean SHAP values of hypotension and non-hypotension samples"
   ]
  },
  {
   "cell_type": "code",
   "execution_count": 24,
   "metadata": {},
   "outputs": [
    {
     "data": {
      "image/png": "[encoded data removed]",
      "text/plain": [
       "<Figure size 720x360 with 1 Axes>"
      ]
     },
     "metadata": {
      "needs_background": "light"
     },
     "output_type": "display_data"
    }
   ],
   "source": [
    "plt.figure(figsize=(10,5))\n",
    "plt.plot(np.mean(SHAPpred_NONHYPO, axis=0), label='Non-hypotension samples', linewidth=3, color='C0', alpha=0.8)\n",
    "plt.plot(np.mean(SHAPpred_HYPO, axis=0), label='Hypotension samples', linewidth=3, color='red', alpha=0.8)\n",
    "plt.xlim(0,9000)\n",
    "plt.xticks(np.arange(0,9001,1000), np.arange(0,91,10), fontsize='x-large')\n",
    "plt.xlabel('Time (sec)', fontsize='x-large')\n",
    "plt.yticks(fontsize='x-large')\n",
    "plt.ylabel('SHAP value', fontsize='x-large')\n",
    "plt.legend(fontsize='x-large')\n",
    "plt.savefig('SHAPaverage.png', bbox_inches='tight')"
   ]
  },
  {
   "cell_type": "markdown",
   "metadata": {},
   "source": [
    "# End"
   ]
  }
 ],
 "metadata": {
  "kernelspec": {
   "display_name": "Python 3",
   "language": "python",
   "name": "python3"
  },
  "language_info": {
   "codemirror_mode": {
    "name": "ipython",
    "version": 3
   },
   "file_extension": ".py",
   "mimetype": "text/x-python",
   "name": "python",
   "nbconvert_exporter": "python",
   "pygments_lexer": "ipython3",
   "version": "3.8.13"
  }
 },
 "nbformat": 4,
 "nbformat_minor": 4
}
